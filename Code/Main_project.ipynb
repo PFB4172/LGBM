{
 "cells": [
  {
   "metadata": {},
   "cell_type": "markdown",
   "source": "# Version",
   "id": "7536df03fe3b0394"
  },
  {
   "metadata": {},
   "cell_type": "code",
   "outputs": [],
   "execution_count": null,
   "source": [
    "\"\"\"\n",
    "Author: Zhang Lu\n",
    "Version: 1.0.0\n",
    "Date:2025-02-14\n",
    "Description: Happy Valentine's Day.\n",
    "\"\"\""
   ],
   "id": "6bda83d5b256ed0c"
  },
  {
   "metadata": {},
   "cell_type": "markdown",
   "source": "# Import package & define library",
   "id": "123793dcc0188cdb"
  },
  {
   "metadata": {},
   "cell_type": "code",
   "source": [
    "import os\n",
    "from lightgbm import LGBMClassifier\n",
    "import json\n",
    "import importlib\n",
    "import pandas as pd\n",
    "import gc"
   ],
   "id": "b61df2ffdaf5177d",
   "outputs": [],
   "execution_count": null
  },
  {
   "metadata": {},
   "cell_type": "markdown",
   "source": "## import manual functions and config",
   "id": "e196fce8de49fa78"
  },
  {
   "metadata": {},
   "cell_type": "code",
   "outputs": [],
   "execution_count": null,
   "source": [
    "import Complex_Utility\n",
    "importlib.reload(Complex_Utility)\n",
    "from Complex_Utility import *\n",
    "\n",
    "import Simple_Utility\n",
    "importlib.reload(Simple_Utility)\n",
    "from Simple_Utility import *\n",
    "\n",
    "import config\n",
    "importlib.reload(config)\n",
    "from config import *"
   ],
   "id": "bac460103a685513"
  },
  {
   "metadata": {},
   "cell_type": "code",
   "outputs": [],
   "execution_count": null,
   "source": [
    "os.chdir(f)\n",
    "os.getcwd()"
   ],
   "id": "fb272b27edf118b8"
  },
  {
   "metadata": {
    "ExecuteTime": {
     "end_time": "2025-02-14T02:48:12.253265Z",
     "start_time": "2025-02-14T02:48:12.249034Z"
    }
   },
   "cell_type": "code",
   "source": [
    "#内存情况监控：\n",
    "import psutil\n",
    "mem_usage = psutil.virtual_memory()\n",
    "\n",
    "print(f\"已使用内存百分比：{mem_usage.percent}%\")\n",
    "print(f\"已使用内存：{mem_usage.used} bytes\")\n",
    "print(f\"总内存：{mem_usage.total} bytes\")"
   ],
   "id": "be7a48f25091c426",
   "outputs": [
    {
     "name": "stdout",
     "output_type": "stream",
     "text": [
      "已使用内存百分比：62.7%\n",
      "已使用内存：9227943936 bytes\n",
      "总内存：17179869184 bytes\n"
     ]
    }
   ],
   "execution_count": 2
  },
  {
   "metadata": {},
   "cell_type": "markdown",
   "source": "# Data input, classify Vars",
   "id": "fe516a65832965d0"
  },
  {
   "metadata": {},
   "cell_type": "markdown",
   "source": "## input data",
   "id": "79aa0c136bf1339e"
  },
  {
   "metadata": {},
   "cell_type": "code",
   "outputs": [],
   "execution_count": null,
   "source": "df = pd.read_pickle(data_f)",
   "id": "6fb85335b771dc4e"
  },
  {
   "metadata": {},
   "cell_type": "markdown",
   "source": "## define Subgroup and make tag",
   "id": "606aa5bc4b4277a7"
  },
  {
   "metadata": {},
   "cell_type": "code",
   "outputs": [],
   "execution_count": null,
   "source": [
    "'''客群定义'''\n",
    "sub0 = (df['y']>-1)\n",
    "sub1 = sub0 & (df['tag1']==1)\n",
    "sub2 = sub0 & (df['tag2']==1)\n",
    "'''在同一个变量中定义子集'''\n",
    "df['sub_group'] = np.select([sub0,sub1,sub2],['G0','G1','G2'],default='Empty')\n",
    "'''分开变量定义子集，以防子客群互相交叠'''\n",
    "df['G0'] = np.select([sub0],['G0'],default='Empty')\n",
    "df['G1'] = np.select([sub1],['G1'],default='Empty')\n",
    "df['G2'] = np.select([sub2],['G2'],default='Empty')"
   ],
   "id": "3cd9af2a611c6525"
  },
  {
   "metadata": {},
   "cell_type": "markdown",
   "source": "## Classify Vars",
   "id": "326fd7bb8829c061"
  },
  {
   "metadata": {},
   "cell_type": "code",
   "outputs": [],
   "execution_count": null,
   "source": [
    "'''变量归类'''\n",
    "KEY_list\n",
    "\n",
    "# 除模型Y值以外的，其他验证Y标签\n",
    "Y_list\n",
    "\n",
    "del_list\n",
    "\n",
    "'''建模数据'''\n",
    "df = df.drop(KEY_list + del_list ,axis=1)"
   ],
   "id": "d26d15f3b076ed24"
  },
  {
   "metadata": {},
   "cell_type": "markdown",
   "source": "## Choose Subgroup to continue",
   "id": "4d9b04a5dacc52e6"
  },
  {
   "metadata": {},
   "cell_type": "code",
   "outputs": [],
   "execution_count": null,
   "source": [
    "# df.rename(columns={'y':'flag','event_mth':'yearmonth'},inplace=True)\n",
    "# df.columns = df.columns.str.replace(r'[()\\-\\+\\,\\s]','_',regex=True)\n",
    "\n",
    "senario1 = df[y]==0\n",
    "senario2 = df[y]==1\n",
    "senario3 = df[yearmonth]<'202402'\n",
    "\n",
    "df_sample = df[(senario1 | senario2) & senario3]"
   ],
   "id": "58cb1b762632e221"
  },
  {
   "metadata": {},
   "cell_type": "code",
   "outputs": [],
   "execution_count": null,
   "source": [
    "del df\n",
    "print('客群的负样本比例:{}'.format( len(np.where(df_sample[y]==1)[0])/len(df_sample[y])))"
   ],
   "id": "b67316dfc82f63c5"
  },
  {
   "metadata": {},
   "cell_type": "markdown",
   "source": "# Vars overview & split dataframe",
   "id": "401cad158803a497"
  },
  {
   "metadata": {},
   "cell_type": "markdown",
   "source": "## (Optional) statistical overview （待优化，简化）",
   "id": "7d06584e5c67018d"
  },
  {
   "metadata": {},
   "cell_type": "code",
   "outputs": [],
   "execution_count": null,
   "source": [
    "# df_part_describe, part_tot_cols = val_describe_tot(df_sample, ext_list,\n",
    "#                                                    output_file, y)"
   ],
   "id": "9f17b4038944b4a1"
  },
  {
   "metadata": {},
   "cell_type": "markdown",
   "source": "## Filter the vars can be used",
   "id": "37d98574478940ce"
  },
  {
   "metadata": {},
   "cell_type": "code",
   "outputs": [],
   "execution_count": null,
   "source": [
    "# part_tot_cols = list(set(df_sample.columns) - set(Y_list))\n",
    "part_tot_cols = df_sample.columns"
   ],
   "id": "d2e48c9c823a6e05"
  },
  {
   "metadata": {},
   "cell_type": "markdown",
   "source": "## Discrete vars conversion",
   "id": "9b271351d309e52a"
  },
  {
   "metadata": {},
   "cell_type": "code",
   "outputs": [],
   "execution_count": null,
   "source": [
    "for col in list_dis:\n",
    "    df_sample[col] = df_sample[col].astype('category')"
   ],
   "id": "a8a2c4e19a4104e1"
  },
  {
   "metadata": {},
   "cell_type": "markdown",
   "source": "## Train, Test, Oot split",
   "id": "663d93e967b6f89e"
  },
  {
   "metadata": {},
   "cell_type": "code",
   "outputs": [],
   "execution_count": null,
   "source": [
    "vldt, vldt_x, vldt_y, train, train_x, train_y, test, test_x, test_y, ds_all = sample_select(\n",
    "    df=df_sample[part_tot_cols],\n",
    "    y=y,\n",
    "    vldt_ym=vldt_ym,\n",
    "    ym=yearmonth)"
   ],
   "id": "7c31dcef6c495f00"
  },
  {
   "metadata": {},
   "cell_type": "code",
   "outputs": [],
   "execution_count": null,
   "source": [
    "# save a copy of all data, for later use\n",
    "ds_all.to_pickle(r'data/ds_all.pkl')\n",
    "print(\n",
    "len(np.where(train_y==1)[0])/len(train_y),\n",
    "len(np.where(test_y==1)[0])/len(test_y),\n",
    "len(np.where(vldt_y==1)[0])/len(vldt_y)\n",
    ")"
   ],
   "id": "c7621a4f86f5538a"
  },
  {
   "metadata": {},
   "cell_type": "markdown",
   "source": "# Fit model",
   "id": "d65f98caa16ae807"
  },
  {
   "metadata": {},
   "cell_type": "markdown",
   "source": "## Drop tags can't be included in model",
   "id": "8e37b96976202ba0"
  },
  {
   "metadata": {},
   "cell_type": "code",
   "outputs": [],
   "execution_count": null,
   "source": [
    "'''drop ext_list vars'''\n",
    "train_x_dist = train_x.drop(ext_list,axis=1)\n",
    "test_x_dist = test_x.drop(ext_list,axis=1)\n",
    "vldt_x_dist = vldt_x.drop(ext_list,axis=1)"
   ],
   "id": "b2ca78d9a31cf968"
  },
  {
   "metadata": {},
   "cell_type": "markdown",
   "source": "## Bayesian Optimization",
   "id": "c871793344b2456b"
  },
  {
   "metadata": {},
   "cell_type": "code",
   "outputs": [],
   "execution_count": null,
   "source": [
    "# Import the Bayesian optimization module\n",
    "import BayesianOptimal\n",
    "importlib.reload(BayesianOptimal)\n",
    "from BayesianOptimal import run_bayesian_optimization\n",
    "\n",
    "# Run the Bayesian optimization with the objects\n",
    "model, result_df, _ = run_bayesian_optimization(train_x_dist, train_y, test_x_dist, test_y, vldt_x_dist, vldt_y)"
   ],
   "id": "f482cdb27c8f2e27"
  },
  {
   "metadata": {},
   "cell_type": "markdown",
   "source": "### Load existing config from previous Bayesian",
   "id": "900c6f82ea54d9e6"
  },
  {
   "metadata": {},
   "cell_type": "code",
   "outputs": [],
   "execution_count": null,
   "source": [
    "with open('json/best_params.json', 'r') as f:\n",
    "    best_params = json.load(f)"
   ],
   "id": "2503c14628b84115"
  },
  {
   "metadata": {},
   "cell_type": "code",
   "outputs": [],
   "execution_count": null,
   "source": [
    "# Fit the model with the training data\n",
    "model.fit(train_x_dist, train_y)\n",
    "\n",
    "# print the model verification results\n",
    "train_ks, train_auc, test_ks, test_auc, vldt_ks, vldt_auc, train_test_psi, train_vldt_psi, traintest_vldt_psi\\\n",
    "    = rst_print(model, train_x_dist, train_y, test_x_dist, test_y, vldt_x_dist, vldt_y)"
   ],
   "id": "7dee103584550216"
  },
  {
   "metadata": {},
   "cell_type": "markdown",
   "source": "## select top vars to simplify the model",
   "id": "234b2d3658a397f4"
  },
  {
   "metadata": {},
   "cell_type": "code",
   "outputs": [],
   "execution_count": null,
   "source": [
    "'''choose top Vars to re-fit model'''\n",
    "df_imp = pd.DataFrame()\n",
    "index = 0\n",
    "for i, j in zip(train_x_dist, model.feature_importances_):\n",
    "    print(i, j)\n",
    "    df_imp.loc[index, 'col_name'] = i\n",
    "    df_imp.loc[index, 'imp_val'] = j\n",
    "    index = index + 1\n",
    "df_imp = df_imp.sort_values(by=['imp_val'], ascending=False)\n",
    "df_imp_val = list(df_imp.head(100).col_name)\n",
    "# list_dis_new= list(set(list_dis) & set(df_imp_val))\n",
    "# print(list_dis_new)"
   ],
   "id": "88c26bafc6a58276"
  },
  {
   "metadata": {},
   "cell_type": "markdown",
   "source": "## manually drop some vars",
   "id": "11453148ae6807e4"
  },
  {
   "metadata": {},
   "cell_type": "code",
   "outputs": [],
   "execution_count": null,
   "source": "df_imp_val = list(set(df_imp_val)-set(['UPPB027']))",
   "id": "50bcb33704e0e0c2"
  },
  {
   "metadata": {},
   "cell_type": "markdown",
   "source": "## Fit the final model",
   "id": "7d688ceb1d6be527"
  },
  {
   "metadata": {},
   "cell_type": "code",
   "outputs": [],
   "execution_count": null,
   "source": [
    "# Fit the model again\n",
    "model.fit(train_x_dist[df_imp_val], train_y)\n",
    "\n",
    "# print the model verification results\n",
    "train_ks, train_auc, test_ks, test_auc, vldt_ks, vldt_auc, train_test_psi, train_vldt_psi, traintest_vldt_psi\\\n",
    "    = rst_print(model, train_x_dist[df_imp_val], train_y, test_x_dist[df_imp_val], test_y, vldt_x_dist[df_imp_val], vldt_y)"
   ],
   "id": "b58f9fee77bc9938"
  },
  {
   "metadata": {},
   "cell_type": "markdown",
   "source": "# Save the model files",
   "id": "468b7e4e36a2d130"
  },
  {
   "metadata": {},
   "cell_type": "code",
   "outputs": [],
   "execution_count": null,
   "source": [
    "# Save the model files\n",
    "model_auto_file(ds_all, model, model_folder, pkl_file, model_var_file, score_file)"
   ],
   "id": "abf765a3c3a6425c"
  }
 ],
 "metadata": {
  "kernelspec": {
   "display_name": "Python 3",
   "language": "python",
   "name": "python3"
  },
  "language_info": {
   "codemirror_mode": {
    "name": "ipython",
    "version": 2
   },
   "file_extension": ".py",
   "mimetype": "text/x-python",
   "name": "python",
   "nbconvert_exporter": "python",
   "pygments_lexer": "ipython2",
   "version": "2.7.6"
  }
 },
 "nbformat": 4,
 "nbformat_minor": 5
}
