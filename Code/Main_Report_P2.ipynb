{
 "cells": [
  {
   "metadata": {},
   "cell_type": "markdown",
   "source": "# Parameters",
   "id": "8ae5e6669ba79976"
  },
  {
   "metadata": {},
   "cell_type": "markdown",
   "source": "# prepare package",
   "id": "ae6ad7bd7a8f82a8"
  },
  {
   "metadata": {},
   "cell_type": "code",
   "outputs": [],
   "execution_count": null,
   "source": [
    "import os\n",
    "import pickle\n",
    "import pandas as pd\n",
    "import numpy as np\n",
    "import importlib"
   ],
   "id": "2ac192c46a93e3f7"
  },
  {
   "metadata": {},
   "cell_type": "code",
   "outputs": [],
   "execution_count": null,
   "source": [
    "import Complex_Utility\n",
    "importlib.reload(Complex_Utility)\n",
    "from Complex_Utility import *\n",
    "\n",
    "import monthly_bucket_report\n",
    "importlib.reload(monthly_bucket_report)\n",
    "from monthly_bucket_report import *\n",
    "\n",
    "import config\n",
    "importlib.reload(config)\n",
    "from config import *"
   ],
   "id": "98f534e06979e004"
  },
  {
   "metadata": {},
   "cell_type": "code",
   "outputs": [],
   "execution_count": null,
   "source": [
    "os.chdir(f)\n",
    "os.getcwd()"
   ],
   "id": "86084df6e571bbec"
  },
  {
   "metadata": {},
   "cell_type": "markdown",
   "source": "# Load",
   "id": "e0b9afd25ad868e8"
  },
  {
   "metadata": {},
   "cell_type": "markdown",
   "source": "## Load data",
   "id": "c0b37b2fa2becd31"
  },
  {
   "metadata": {},
   "cell_type": "code",
   "outputs": [],
   "execution_count": null,
   "source": [
    "df_model = pd.read_pickle(score_file)\n",
    "df = pd.read_pickle(data_f)"
   ],
   "id": "d323f0645d225659"
  },
  {
   "metadata": {},
   "cell_type": "markdown",
   "source": "## Load model",
   "id": "e50e6d05f167c6dd"
  },
  {
   "metadata": {},
   "cell_type": "code",
   "outputs": [],
   "execution_count": null,
   "source": [
    "model = pickle.load(file = open(pkl_file,'rb'))\n",
    "model_var = model.feature_name_\n",
    "len(model_var)"
   ],
   "id": "53292204b0cf364c"
  },
  {
   "metadata": {},
   "cell_type": "markdown",
   "source": "## Data preparation",
   "id": "83ad3c9506d815f5"
  },
  {
   "metadata": {},
   "cell_type": "code",
   "outputs": [],
   "execution_count": null,
   "source": [
    "'''离散变量处理'''\n",
    "for col in list_dis:\n",
    "    df[col] = df[col].astype('category')"
   ],
   "id": "48d14bad75c45f84"
  },
  {
   "metadata": {},
   "cell_type": "markdown",
   "source": "## Prediction",
   "id": "41e6e0535d45d693"
  },
  {
   "metadata": {},
   "cell_type": "code",
   "outputs": [],
   "execution_count": null,
   "source": [
    "y_pred = model.predict_proba(df[model_var])[:,1]\n",
    "df['y_pred'] = y_pred\n",
    "y_pred_score = np.round(400-35/np.log(2)*np.log(y_pred/(1-y_pred)))\n",
    "df['y_pred_score'] = y_pred_score\n",
    "\n",
    "'''output full dataset'''\n",
    "df.to_csv(\"result/%s_全量数据打分.csv\" % part_nm, index = False)"
   ],
   "id": "90be3e1be9ac3110"
  },
  {
   "metadata": {},
   "cell_type": "markdown",
   "source": "# Subgroup",
   "id": "43dcb4498f60e5bc"
  },
  {
   "metadata": {
    "ExecuteTime": {
     "end_time": "2025-02-19T07:28:19.080006Z",
     "start_time": "2025-02-19T07:28:18.273061Z"
    }
   },
   "cell_type": "code",
   "source": [
    "'''define subgroups'''\n",
    "sub0 = (df['cd'] == 0)\n",
    "sub1 = (df['cd'] == 1)\n",
    "# df['subgroup'] = np.where(sub0, 'sub0', np.where(sub1, 'sub1', 'sub2'))\n",
    "df['subgroup'] = np.select([sub0, sub1], ['sub0', 'sub1'], default= 'empty')"
   ],
   "id": "6b4d0c36de5ac8bc",
   "outputs": [],
   "execution_count": 2
  },
  {
   "metadata": {},
   "cell_type": "code",
   "outputs": [],
   "execution_count": null,
   "source": [
    "'''choose subgroups'''\n",
    "df_sample = df[df['subgroup'] == 'sub0']"
   ],
   "id": "53ce180d03b60614"
  },
  {
   "metadata": {},
   "cell_type": "markdown",
   "source": "# General report by Tag",
   "id": "80db0db77fa20f02"
  },
  {
   "metadata": {},
   "cell_type": "code",
   "outputs": [],
   "execution_count": null,
   "source": [
    "'''\n",
    "tgt_col：y标签\n",
    "y_pred: 评分或者概率\n",
    "tag: 二级拆分标签。如：月份，城市等; 如果不需要，填空\n",
    "group_column: 如果组标签是单个变量，就填此变量group_column；\n",
    "                        如果组标签是分开的变量(如变量G1，G2, G3)，则填空\n",
    "my_dict: eg {'G1':'y','G2':'y2','G3':'y3'} !!!: 请注意，如果是标签含重复的项，会被覆盖，使用下方my_pairs的方法替代dict格式。\n",
    "    my_pairs = [('a', 'aa'), ('a', 'bb'), ('a', 'cc'), ('b', 'cc')]\n",
    "'''"
   ],
   "id": "ba46629daed12fc4"
  },
  {
   "metadata": {},
   "cell_type": "code",
   "outputs": [],
   "execution_count": null,
   "source": [
    "'''\n",
    "Functions Collections:\n",
    "describe_report_tag(df, tag, tgt_col)\n",
    "describe_report_tag2(df, tag1, tag2, tgt_col)\n",
    "bads_table, total_prop_table, total_table, lift_table = bucket_distribution_tag(df, tag, y_pred, tgt_col, bench_mark, split_num, methods)\n",
    "bads_table, total_prop_table, total_table, lift_table = bucket_distribution_tag(df, tag, y_pred, tgt_col, bench_mark, split_num, methods)\n",
    "bucket_lift_tag(df, tag, y_pred, tgt_col, split_num, methods = 'quantile')\n",
    "loop_report_subgroup(df, tag, y_pred, group_column, my_dict)\n",
    "psi_ks_auc(df, tag, y_pred, tgt_col, bench_mark, split_num = 10)\n",
    "'''"
   ],
   "id": "e52599c305e0ac4"
  },
  {
   "metadata": {},
   "cell_type": "code",
   "outputs": [],
   "execution_count": null,
   "source": [
    "a = describe_report_tag(df, yearmonth, y)\n",
    "\n",
    "b = describe_report_tag2(df_sample, samp_col, yearmonth, y)\n",
    "\n",
    "c = bucket_lift_tag(df, yearmonth, 'y_pred', y, split_num = 20, methods = 'quantile')\n",
    "\n",
    "d = psi_ks_auc(df, yearmonth, 'y_pred', y, 'last_row', split_num = 10)"
   ],
   "id": "148dc9aadd571464"
  },
  {
   "metadata": {},
   "cell_type": "code",
   "outputs": [],
   "execution_count": null,
   "source": [
    "%%capture --no-display\n",
    "bads_table, total_prop_table, total_table, lift_table = bucket_distribution_tag(df, yearmonth, 'y_pred', y, '', 20, methods = 'quantile')"
   ],
   "id": "481a636ba2ad9b3b"
  },
  {
   "metadata": {},
   "cell_type": "code",
   "outputs": [],
   "execution_count": null,
   "source": [
    "my_pairs = [('credit', 'y_28'), ('credit', 'y_30'), ('credit', 'y_60'), ('mortgage', 'y_30')]\n",
    "e = loop_report_subgroup(df, yearmonth, 'y_pred', 'sub_group', my_pairs)"
   ],
   "id": "b46b499668bb530d"
  },
  {
   "metadata": {},
   "cell_type": "code",
   "outputs": [],
   "execution_count": null,
   "source": [
    "import File_utility\n",
    "importlib.reload(File_utility)\n",
    "from File_utility import *"
   ],
   "id": "b63074c9afa2ae59"
  },
  {
   "metadata": {},
   "cell_type": "code",
   "outputs": [],
   "execution_count": null,
   "source": [
    "wb_sheet1 = wb.add_worksheet('%s_标签统计' % part_nm)\n",
    "wb_sheet2 = wb.add_worksheet('%s_分月统计' % part_nm)\n",
    "wb_sheet3 = wb.add_worksheet('%s_PSI_KS_AUC' % part_nm)\n",
    "wb_sheet4 = wb.add_worksheet('%s_子客群报告' % part_nm)\n",
    "wb_sheet5 = wb.add_worksheet('%s_分组分布' % part_nm)"
   ],
   "id": "6fc380a9dc4353e1"
  },
  {
   "metadata": {},
   "cell_type": "code",
   "outputs": [],
   "execution_count": null,
   "source": [
    "row_flag = 0\n",
    "write_table(wb_sheet1, a, start_row=row_flag,start_col=0,ch_col=[0],\n",
    "            str_col=[0],int_col=[1,2,3],decimal_col=[],pct_col=[4,5,6])\n",
    "\n",
    "row_flag+=a.shape[0]+2\n",
    "write_table(wb_sheet1, b, start_row=row_flag,start_col=0,ch_col=[0],\n",
    "            str_col=[0,1],int_col=[2,3,4],decimal_col=[],pct_col=[5,6,7])"
   ],
   "id": "6139a30d6bc506c"
  },
  {
   "metadata": {},
   "cell_type": "code",
   "outputs": [],
   "execution_count": null,
   "source": [
    "write_table(wb_sheet2, c, start_row=0,start_col=0,ch_col=[0],\n",
    "            str_col=[0],int_col=[1,2],decimal_col=[4,5,6],pct_col=[3])\n",
    "\n",
    "write_table(wb_sheet3, d, start_row=0,start_col=0,ch_col=[0,1],\n",
    "            str_col=[0,1],int_col=[],decimal_col=[2,3,4],pct_col=[])\n",
    "\n",
    "write_table(wb_sheet4, e, start_row=0,start_col=0,ch_col=[0],\n",
    "            str_col=[0,8],int_col=[1,2],decimal_col=[4,5,6,7],pct_col=[3])"
   ],
   "id": "f1bf2a0d1856ba76"
  },
  {
   "metadata": {},
   "cell_type": "code",
   "outputs": [],
   "execution_count": null,
   "source": [
    "row_flag = 0\n",
    "write_table(wb_sheet5, bads_table, start_row=row_flag,start_col=0,ch_col=[0],\n",
    "            str_col=[0],int_col=[1,2,3,4,5,6,7,8,9,10,11,12],decimal_col=[],pct_col=[])\n",
    "\n",
    "row_flag+=bads_table.shape[0]+2\n",
    "write_table(wb_sheet5, total_prop_table, start_row=row_flag,start_col=0,ch_col=[0],\n",
    "            str_col=[0],int_col=[],decimal_col=[],pct_col=[1,2,3,4,5,6,7,8,9,10,11,12])\n",
    "\n",
    "row_flag+=total_prop_table.shape[0]+2\n",
    "write_table(wb_sheet5, total_table, start_row=row_flag,start_col=0,ch_col=[0],\n",
    "            str_col=[0],int_col=[1,2,3,4,5,6,7,8,9,10,11,12],decimal_col=[],pct_col=[])\n",
    "\n",
    "row_flag+=total_table.shape[0]+2\n",
    "write_table(wb_sheet5, lift_table, start_row=row_flag,start_col=0,ch_col=[0],\n",
    "            str_col=[0],int_col=[],decimal_col=[1,2,3,4,5,6,7,8,9,10,11,12],pct_col=[])"
   ],
   "id": "4e2725592035013f"
  },
  {
   "metadata": {},
   "cell_type": "code",
   "outputs": [],
   "execution_count": null,
   "source": [
    "wb.close()\n",
    "del wb"
   ],
   "id": "d6f255e3ddfc6ccc"
  }
 ],
 "metadata": {
  "kernelspec": {
   "display_name": "Python 3",
   "language": "python",
   "name": "python3"
  },
  "language_info": {
   "codemirror_mode": {
    "name": "ipython",
    "version": 2
   },
   "file_extension": ".py",
   "mimetype": "text/x-python",
   "name": "python",
   "nbconvert_exporter": "python",
   "pygments_lexer": "ipython2",
   "version": "2.7.6"
  }
 },
 "nbformat": 4,
 "nbformat_minor": 5
}
