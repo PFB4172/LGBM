{
 "cells": [
  {
   "metadata": {},
   "cell_type": "markdown",
   "source": "# Version",
   "id": "1f8d8d81367c3264"
  },
  {
   "metadata": {},
   "cell_type": "code",
   "outputs": [],
   "execution_count": null,
   "source": [
    "\"\"\"\n",
    "Author: Zhang Lu\n",
    "Version: 1.0.0\n",
    "Date:2025-02-14\n",
    "Description: Happy Valentine's Day.\n",
    "\"\"\""
   ],
   "id": "1308dd52a1d25151"
  },
  {
   "metadata": {},
   "cell_type": "markdown",
   "source": "# Packages & Parameters",
   "id": "d64d26f2195c5bb7"
  },
  {
   "metadata": {},
   "cell_type": "code",
   "outputs": [],
   "execution_count": null,
   "source": [
    "import os\n",
    "import importlib\n",
    "import pickle"
   ],
   "id": "830b555b217c6c39"
  },
  {
   "metadata": {},
   "cell_type": "code",
   "outputs": [],
   "execution_count": null,
   "source": [
    "import Complex_Utility\n",
    "importlib.reload(Complex_Utility)\n",
    "from Complex_Utility import *\n",
    "\n",
    "import config\n",
    "importlib.reload(config)\n",
    "from config import *"
   ],
   "id": "c620a1aa55522d7d"
  },
  {
   "metadata": {},
   "cell_type": "code",
   "source": [
    "os.chdir(f)\n",
    "os.getcwd()"
   ],
   "id": "f8f37c925c38f845",
   "outputs": [],
   "execution_count": null
  },
  {
   "metadata": {},
   "cell_type": "markdown",
   "source": "# Load",
   "id": "c754fa0ebf6c6c76"
  },
  {
   "metadata": {},
   "cell_type": "markdown",
   "source": "## Load data",
   "id": "6bc9dfb1f3841cc0"
  },
  {
   "metadata": {},
   "cell_type": "code",
   "outputs": [],
   "execution_count": null,
   "source": "df = pd.read_pickle(score_file)",
   "id": "a1450bdb907d3fd9"
  },
  {
   "metadata": {},
   "cell_type": "markdown",
   "source": "## Load model",
   "id": "6024d7d38e264ec8"
  },
  {
   "metadata": {},
   "cell_type": "code",
   "outputs": [],
   "execution_count": null,
   "source": [
    "model = pickle.load(file = open(pkl_file,'rb'))\n",
    "model_var = model.feature_name_\n",
    "len(model_var)"
   ],
   "id": "3346f6b0c4469e01"
  },
  {
   "metadata": {},
   "cell_type": "markdown",
   "source": "## Data preparation",
   "id": "b5eb29c9e5ba33d2"
  },
  {
   "metadata": {},
   "cell_type": "code",
   "outputs": [],
   "execution_count": null,
   "source": [
    "'''离散变量处理'''\n",
    "for col in list_dis:\n",
    "    df[col] = df[col].astype('category')"
   ],
   "id": "aac4674da809759b"
  },
  {
   "metadata": {},
   "cell_type": "code",
   "outputs": [],
   "execution_count": null,
   "source": [
    "# data subgroups\n",
    "split_dfs = df_split(df, samp_col)\n",
    "train_x_dist = split_dfs['01.train']\n",
    "train_y = split_dfs['01.train'][y]\n",
    "test_x_dist = split_dfs['02.test']\n",
    "test_y = split_dfs['02.test'][y]\n",
    "vldt_x_dist = split_dfs['03.vldt']\n",
    "vldt_y = split_dfs['03.vldt'][y]"
   ],
   "id": "1fa8e91772b5aee8"
  },
  {
   "metadata": {},
   "cell_type": "markdown",
   "source": "# Choose top vars to describe statistics",
   "id": "e59d55f4ac062894"
  },
  {
   "metadata": {},
   "cell_type": "code",
   "source": [
    "'''choose top few (10) Vars to describe'''\n",
    "df_imp = pd.DataFrame()\n",
    "index = 0\n",
    "for i, j in zip(model.feature_name_, model.feature_importances_):\n",
    "    # print(i, j)\n",
    "    df_imp.loc[index, 'col_name'] = i\n",
    "    df_imp.loc[index, 'imp_val'] = j\n",
    "    index = index + 1\n",
    "df_imp = df_imp.sort_values(by=['imp_val'], ascending=False)\n",
    "df_imp_top = list(df_imp.head(10).col_name)\n",
    "\n",
    "print(df_imp_top.shape)"
   ],
   "id": "c43a5d126fa20b5b",
   "outputs": [],
   "execution_count": null
  },
  {
   "metadata": {},
   "cell_type": "markdown",
   "source": "# Bin top vars to be described",
   "id": "30d3d5e1d2f3af30"
  },
  {
   "metadata": {},
   "cell_type": "code",
   "source": [
    "train_slc1_update_woe, slc1_bins_update, slc1_c_update, slc1_t_update, train_slc1_woe, slc1_bins, slc1_c, slc1_t = discrete_type(\n",
    "    train_x_dist, train_y, df_imp_top, bin_set=False)\n",
    "\n",
    "df_slc2_bin = slc1_c_update.transform(df[df_imp_top],labels=True)\n",
    "df_slc2_woe_xy = pd.concat([df_slc2_bin, df[y,samp_col]], axis=1)\n",
    "'''show df as Bin name'''\n",
    "train_slc2_bin = slc1_c_update.transform(train_x_dist[df_imp_top],labels=True)\n",
    "test_slc2_bin = slc1_c_update.transform(test_x_dist[df_imp_top],labels=True)\n",
    "vldt_slc2_bin = slc1_c_update.transform(vldt_x_dist[df_imp_top],labels=True)\n",
    "'''show df as WOE'''\n",
    "train_slc2_woe_tot = slc1_t_update.transform(train_slc2_bin)\n",
    "test_slc2_woe_tot = slc1_t_update.transform(test_slc2_bin)\n",
    "vldt_slc2_woe_tot = slc1_t_update.transform(vldt_slc2_bin)"
   ],
   "id": "209cb3c799e7afb8",
   "outputs": [],
   "execution_count": null
  },
  {
   "metadata": {},
   "cell_type": "markdown",
   "source": "# Write the report",
   "id": "24606d91c686ec0b"
  },
  {
   "metadata": {},
   "cell_type": "code",
   "outputs": [],
   "execution_count": null,
   "source": [
    "import Report_Utility\n",
    "importlib.reload(Report_Utility)\n",
    "from Report_Utility import *"
   ],
   "id": "d84176dfc17833e3"
  },
  {
   "metadata": {},
   "cell_type": "code",
   "outputs": [],
   "execution_count": null,
   "source": [
    "file_nm=part_nm\n",
    "tgt_col = y"
   ],
   "id": "f2f5196ce2b8d45"
  },
  {
   "metadata": {},
   "cell_type": "code",
   "source": [
    "#入模变量-变量相关性\n",
    "model_var_corr(wb, train_x_dist[df_imp_top], '%s_入模变量_变量相关性' % file_nm)\n",
    "#样本分布情况\n",
    "sample_distribute(wb,\n",
    "                  ds_all,\n",
    "                  '%s_样本分布情况' % file_nm,\n",
    "                  tgt_col,\n",
    "                  samp_type=samp_col,\n",
    "                  yearmonth=yearmonth)\n",
    "#入模变量概况\n",
    "model_var_stat = model_vars_analyse(wb, tgt_col,train_x_dist[df_imp_top], test_x_dist[df_imp_top],\n",
    "                                        vldt_x_dist[df_imp_top], train_y, test_y,\n",
    "                                        vldt_y,\n",
    "                                        'output/%s_入模变量概况.csv' % file_nm,\n",
    "                                        '%s_入模变量概况' % file_nm)\n",
    "#入模变量-单变量分析\n",
    "woe_update = slc1_t_update.export()\n",
    "model_vars_sheet2(wb, woe_update, df_imp_top, train_slc1_woe, test_slc2_woe_tot,\n",
    "                  vldt_slc2_woe_tot, train_y, test_y, vldt_y,\n",
    "                  'output/%s_双变量分析结果.csv' % file_nm, '%s_双变量分析结果' % file_nm)\n",
    "#入模变量-单变量分析图\n",
    "bin_plt_export2(wb, train_x_dist[df_imp_top], df_slc2_woe_xy,\n",
    "                '%s_入模变量_单变量分析图' % file_nm, model_var_stat, samp_col, tgt_col)\n",
    "#模型结果-剩余报告\n",
    "model_result_all(wb, model, file_nm, yearmonth, tgt_col,\n",
    "                 train_x_dist, train_y,\n",
    "                 test_x_dist, test_y,\n",
    "                 vldt_x_dist, vldt_y)"
   ],
   "id": "60708925769c23a2",
   "outputs": [],
   "execution_count": null
  },
  {
   "metadata": {},
   "cell_type": "code",
   "source": [
    "wb.close()\n",
    "del wb"
   ],
   "id": "51a0b89941ae5761",
   "outputs": [],
   "execution_count": null
  }
 ],
 "metadata": {
  "kernelspec": {
   "display_name": "Python 3",
   "language": "python",
   "name": "python3"
  },
  "language_info": {
   "codemirror_mode": {
    "name": "ipython",
    "version": 2
   },
   "file_extension": ".py",
   "mimetype": "text/x-python",
   "name": "python",
   "nbconvert_exporter": "python",
   "pygments_lexer": "ipython2",
   "version": "2.7.6"
  }
 },
 "nbformat": 4,
 "nbformat_minor": 5
}
