{
 "cells": [
  {
   "metadata": {},
   "cell_type": "markdown",
   "source": "# Version"
  },
  {
   "metadata": {},
   "cell_type": "code",
   "outputs": [],
   "execution_count": null,
   "source": [
    "\"\"\"\n",
    "Author: Zhang Lu\n",
    "Version: 1.0.0\n",
    "Date:2025-02-17\n",
    "Description: Harden join NBA All-stars Games.\n",
    "\"\"\""
   ]
  },
  {
   "cell_type": "markdown",
   "metadata": {},
   "source": [
    "# 导入"
   ]
  },
  {
   "cell_type": "markdown",
   "metadata": {},
   "source": [
    "## 环境导入"
   ]
  },
  {
   "cell_type": "code",
   "execution_count": null,
   "metadata": {},
   "outputs": [],
   "source": [
    "import numpy as np\n",
    "import os\n",
    "import pandas as pd\n",
    "from Simple_Utility import *\n",
    "from datetime import datetime\n",
    "import gc\n",
    "import importlib\n",
    "import sys\n",
    "import warnings"
   ]
  },
  {
   "metadata": {},
   "cell_type": "code",
   "outputs": [],
   "execution_count": null,
   "source": [
    "import Simple_Utility\n",
    "importlib.reload(Simple_Utility)\n",
    "from Simple_Utility import *"
   ]
  },
  {
   "metadata": {
    "ExecuteTime": {
     "end_time": "2024-12-30T06:06:30.227091Z",
     "start_time": "2024-12-30T06:06:29.929056Z"
    }
   },
   "cell_type": "code",
   "outputs": [
    {
     "name": "stdout",
     "output_type": "stream",
     "text": [
      "已使用内存百分比：69.8%\n",
      "已使用内存：186258206720 bytes\n",
      "总内存：270157320192 bytes\n"
     ]
    }
   ],
   "execution_count": 1,
   "source": [
    "#内存情况监控：\n",
    "import psutil\n",
    "mem_usage = psutil.virtual_memory()\n",
    "\n",
    "print(f\"已使用内存百分比：{mem_usage.percent}%\")\n",
    "print(f\"已使用内存：{mem_usage.used} bytes\")\n",
    "print(f\"总内存：{mem_usage.total} bytes\")"
   ]
  },
  {
   "metadata": {},
   "cell_type": "markdown",
   "source": "## 导入绝对路径参数"
  },
  {
   "cell_type": "code",
   "execution_count": 2,
   "metadata": {
    "ExecuteTime": {
     "end_time": "2024-12-30T06:06:31.735396Z",
     "start_time": "2024-12-30T06:06:31.730249Z"
    }
   },
   "outputs": [],
   "source": [
    "import config\n",
    "importlib.reload(config)\n",
    "from config import f\n",
    "\n",
    "os.chdir(f)"
   ]
  },
  {
   "cell_type": "markdown",
   "metadata": {},
   "source": [
    "## UPA数据"
   ]
  },
  {
   "cell_type": "code",
   "execution_count": 3,
   "metadata": {
    "ExecuteTime": {
     "end_time": "2024-12-30T06:06:41.637278Z",
     "start_time": "2024-12-30T06:06:34.646872Z"
    }
   },
   "outputs": [
    {
     "name": "stderr",
     "output_type": "stream",
     "text": [
      "/home/hang_zhou/anaconda3/lib/python3.7/site-packages/IPython/core/interactiveshell.py:3331: DtypeWarning: Columns (9,10,12,13,14,16,17,18,19,22,23,24,107,141,150,159,283,843,844) have mixed types.Specify dtype option on import or set low_memory=False.\n",
      "  exec(code_obj, self.user_global_ns, self.user_ns)\n"
     ]
    }
   ],
   "source": [
    "df_risk_vars = pd.read_csv(r\"data/xw_hirisk_res.csv\" )\n",
    "df_upa_vars = pd.read_csv(r\"data/xw_zh3.0_res.csv\")\n",
    "df_mcc_vars = pd.read_csv(r\"data/xw_jdmcc_res.csv\")\n",
    "\n",
    "df_risk2_vars = pd.read_csv(r\"data/xw_zh30.csv\")\n",
    "df_cust_vars = pd.read_csv(r\"data/xw_zh30.csv\")"
   ]
  },
  {
   "metadata": {},
   "cell_type": "code",
   "outputs": [],
   "execution_count": null,
   "source": [
    "## uppa001不为空的，作为upa整体查得率\n",
    "df_upa_vars['UPPA001'].notnull().sum()"
   ]
  },
  {
   "metadata": {},
   "cell_type": "markdown",
   "source": "# 客户数据"
  },
  {
   "metadata": {},
   "cell_type": "code",
   "outputs": [],
   "execution_count": null,
   "source": "a = pd.read_csv(r\"data/xw_zh30.csv\")"
  },
  {
   "cell_type": "markdown",
   "metadata": {},
   "source": [
    "## 数据合并"
   ]
  },
  {
   "metadata": {},
   "cell_type": "code",
   "outputs": [],
   "execution_count": null,
   "source": [
    "### 确定匹配主键\n",
    "df_upa_vars = df_upa_vars.iloc[np.where(df_upa_vars['UPPA001'].notnull())[0]]"
   ]
  },
  {
   "cell_type": "code",
   "execution_count": 10,
   "metadata": {
    "ExecuteTime": {
     "end_time": "2024-12-30T06:09:18.283210Z",
     "start_time": "2024-12-30T06:09:18.194468Z"
    }
   },
   "outputs": [
    {
     "ename": "NameError",
     "evalue": "name 'df_upa_vars' is not defined",
     "output_type": "error",
     "traceback": [
      "\u001B[0;31m---------------------------------------------------------------------------\u001B[0m",
      "\u001B[0;31mNameError\u001B[0m                                 Traceback (most recent call last)",
      "\u001B[0;32m<ipython-input-10-59dbb72fd248>\u001B[0m in \u001B[0;36m<module>\u001B[0;34m\u001B[0m\n\u001B[1;32m      1\u001B[0m \u001B[0;31m#数据整合\u001B[0m\u001B[0;34m\u001B[0m\u001B[0;34m\u001B[0m\u001B[0;34m\u001B[0m\u001B[0m\n\u001B[0;32m----> 2\u001B[0;31m \u001B[0mdf1\u001B[0m \u001B[0;34m=\u001B[0m \u001B[0mpd\u001B[0m\u001B[0;34m.\u001B[0m\u001B[0mmerge\u001B[0m\u001B[0;34m(\u001B[0m\u001B[0mdf_upa_vars\u001B[0m\u001B[0;34m,\u001B[0m\u001B[0mdf_risk_vars\u001B[0m\u001B[0;34m,\u001B[0m\u001B[0mhow\u001B[0m\u001B[0;34m=\u001B[0m\u001B[0;34m'left'\u001B[0m\u001B[0;34m,\u001B[0m\u001B[0mon\u001B[0m\u001B[0;34m=\u001B[0m\u001B[0;34m[\u001B[0m\u001B[0;34m'id'\u001B[0m\u001B[0;34m,\u001B[0m\u001B[0;34m'ym'\u001B[0m\u001B[0;34m]\u001B[0m\u001B[0;34m,\u001B[0m\u001B[0msuffixes\u001B[0m\u001B[0;34m=\u001B[0m\u001B[0;34m(\u001B[0m\u001B[0;34m'_d1'\u001B[0m\u001B[0;34m,\u001B[0m\u001B[0;34m'_d2'\u001B[0m\u001B[0;34m)\u001B[0m\u001B[0;34m)\u001B[0m\u001B[0;34m\u001B[0m\u001B[0;34m\u001B[0m\u001B[0m\n\u001B[0m\u001B[1;32m      3\u001B[0m \u001B[0mdata\u001B[0m \u001B[0;34m=\u001B[0m \u001B[0mpd\u001B[0m\u001B[0;34m.\u001B[0m\u001B[0mmerge\u001B[0m\u001B[0;34m(\u001B[0m\u001B[0mdf1\u001B[0m\u001B[0;34m,\u001B[0m\u001B[0mdf_mcc_vars\u001B[0m\u001B[0;34m,\u001B[0m\u001B[0mhow\u001B[0m\u001B[0;34m=\u001B[0m\u001B[0;34m'left'\u001B[0m\u001B[0;34m,\u001B[0m\u001B[0mon\u001B[0m\u001B[0;34m=\u001B[0m\u001B[0;34m[\u001B[0m\u001B[0;34m'id'\u001B[0m\u001B[0;34m,\u001B[0m\u001B[0;34m'ym'\u001B[0m\u001B[0;34m]\u001B[0m\u001B[0;34m,\u001B[0m\u001B[0msuffixes\u001B[0m\u001B[0;34m=\u001B[0m\u001B[0;34m(\u001B[0m\u001B[0;34m'_f1'\u001B[0m\u001B[0;34m,\u001B[0m\u001B[0;34m'_f2'\u001B[0m\u001B[0;34m)\u001B[0m\u001B[0;34m)\u001B[0m\u001B[0;34m\u001B[0m\u001B[0;34m\u001B[0m\u001B[0m\n",
      "\u001B[0;31mNameError\u001B[0m: name 'df_upa_vars' is not defined"
     ]
    }
   ],
   "source": [
    "#数据整合\n",
    "df1 = pd.merge(df_upa_vars,df_risk_vars,how='left',on=['id','ym'],suffixes=('_d1','_d2'))\n",
    "data = pd.merge(df1,df_mcc_vars,how='left',on=['id','ym'],suffixes=('_f1','_f2'))"
   ]
  },
  {
   "cell_type": "code",
   "execution_count": 5,
   "metadata": {
    "ExecuteTime": {
     "end_time": "2024-12-30T06:07:08.368375Z",
     "start_time": "2024-12-30T06:07:08.207489Z"
    }
   },
   "outputs": [
    {
     "data": {
      "text/plain": [
       "0"
      ]
     },
     "execution_count": 5,
     "metadata": {},
     "output_type": "execute_result"
    }
   ],
   "source": [
    "gc.collect()\n",
    "del df1\n",
    "del df_upa_vars\n",
    "del df_risk_vars\n",
    "del df_mcc_vars\n",
    "gc.collect()"
   ]
  },
  {
   "metadata": {},
   "cell_type": "markdown",
   "source": "### 删除重复的变量"
  },
  {
   "metadata": {},
   "cell_type": "code",
   "outputs": [],
   "execution_count": null,
   "source": [
    "# 删除（包含字符串的）重复的变量\n",
    "string_to_remove = ['_d1','_d2','_f1','_f2']\n",
    "data = data.drop([col for col in data.columns if any([s in col for s in string_to_remove])], axis=1)"
   ]
  },
  {
   "metadata": {},
   "cell_type": "markdown",
   "source": "# Object 变量检查"
  },
  {
   "cell_type": "code",
   "execution_count": 6,
   "metadata": {
    "ExecuteTime": {
     "end_time": "2024-12-30T06:07:08.479448Z",
     "start_time": "2024-12-30T06:07:08.442687Z"
    }
   },
   "outputs": [
    {
     "name": "stdout",
     "output_type": "stream",
     "text": [
      "flag_d1\n",
      "map_key_d1\n",
      "UPPA006\n",
      "UPPA007\n",
      "UPPA008\n",
      "UPPA010\n",
      "UPPB001\n",
      "UPPB013\n",
      "UPPB002\n",
      "UPPB003\n",
      "UPPB004\n",
      "UPPB005\n",
      "UPPB023\n",
      "UPPB024\n",
      "UPPB025\n",
      "UPPB006\n",
      "UPPB007\n",
      "UPPB026\n",
      "UPPC185\n",
      "UPPC187\n",
      "UPPB009\n",
      "UPPB027\n",
      "UPPB010\n",
      "UPPB011\n",
      "UPPB012\n",
      "UPPB019\n",
      "UPPC061\n",
      "UPPC095\n",
      "UPPC104\n",
      "UPPC113\n",
      "UPPC493\n",
      "UPPC494\n",
      "UPPC495\n",
      "UPPC490\n",
      "UPPC491\n",
      "UPPC492\n",
      "UPPC224\n",
      "UPPC496\n",
      "UPPC497\n",
      "UPPC333\n",
      "UPPC334\n",
      "UPPC335\n",
      "UPPC336\n",
      "UPPC474\n",
      "UPPC392\n",
      "UPPC393\n",
      "UPPC394\n",
      "UPPC395\n",
      "UPPC489\n",
      "UPPD057\n",
      "UPPE025\n",
      "UPPE026\n",
      "UPPE027\n",
      "UPPE028\n",
      "UPPE037\n",
      "UPPE038\n",
      "UPPE039\n",
      "UPPE040\n",
      "UPPE049\n",
      "UPPE050\n",
      "UPPE075\n",
      "UPPE076\n",
      "UPPE077\n",
      "UPPE078\n",
      "UPPE079\n",
      "UPPE080\n",
      "UPPE081\n",
      "UPPE082\n",
      "UPPE071\n",
      "UPPE072\n",
      "UPPE073\n",
      "UPPE074\n",
      "UPPE083\n",
      "UPPG001\n",
      "UPPG002\n",
      "UPPG003\n",
      "UPPG028\n",
      "UPPG029\n",
      "UPPG030\n",
      "UPPI009\n",
      "UPPI010\n",
      "UPPI011\n",
      "UPPI012\n",
      "UPPI021\n",
      "UPPI022\n",
      "UPPI023\n",
      "UPPI024\n",
      "UPPI033\n",
      "UPPI034\n",
      "UPPI035\n",
      "UPPI036\n",
      "UPPI045\n",
      "UPPI046\n",
      "UPPI047\n",
      "UPPI048\n",
      "UPPI057\n",
      "UPPI058\n",
      "UPPI059\n",
      "UPPI060\n",
      "UPPI069\n",
      "UPPI070\n",
      "UPPI071\n",
      "UPPI072\n",
      "UPPI081\n",
      "UPPI082\n",
      "UPPI083\n",
      "UPPI084\n",
      "UPPI093\n",
      "UPPI094\n",
      "UPPI095\n",
      "UPPI096\n",
      "UPPI105\n",
      "UPPI106\n",
      "UPPI107\n",
      "UPPI108\n",
      "UPPI117\n",
      "UPPI118\n",
      "UPPI119\n",
      "UPPI120\n",
      "UPPI129\n",
      "UPPI130\n",
      "UPPI131\n",
      "UPPI132\n",
      "UPPI141\n",
      "UPPI142\n",
      "UPPI143\n",
      "UPPI144\n",
      "UPPI153\n",
      "UPPI154\n",
      "UPPI155\n",
      "UPPI156\n",
      "UPPI165\n",
      "UPPI166\n",
      "UPPI167\n",
      "UPPI168\n",
      "UPPI177\n",
      "UPPI178\n",
      "UPPI179\n",
      "UPPI180\n",
      "UPPI189\n",
      "UPPI190\n",
      "UPPI191\n",
      "UPPI192\n",
      "UPPI201\n",
      "UPPI202\n",
      "UPPI203\n",
      "UPPI204\n",
      "id\n",
      "flag_d2\n",
      "map_key_d2\n",
      "UPPW021\n",
      "UPPW022\n",
      "UPPW061\n",
      "UPPW105\n",
      "UPPW106\n",
      "UPPW145\n",
      "UPPW189\n",
      "UPPW190\n",
      "UPPW229\n",
      "JDDZ800\n",
      "JDDZ883\n"
     ]
    }
   ],
   "source": [
    "##### object变量检查\n",
    "for s in data.items():\n",
    "    if pd.api.types.is_object_dtype(s[1].dtypes):\n",
    "        print(s[0])"
   ]
  },
  {
   "cell_type": "code",
   "execution_count": 7,
   "metadata": {
    "ExecuteTime": {
     "end_time": "2024-12-30T06:07:44.371847Z",
     "start_time": "2024-12-30T06:07:42.246564Z"
    }
   },
   "outputs": [
    {
     "name": "stdout",
     "output_type": "stream",
     "text": [
      "flag_d1：正在格式化为空\n",
      "could not convert string to float: 'xhm_xw'\n",
      "map_key_d1：正在格式化为空\n",
      "could not convert string to float: '006d4fa9012f707682671fa3cba692e903cc8354f962d981a59c263f5d2b0a2e'\n",
      "UPPA006：正在格式化为空\n",
      "could not convert string to float: '佛山市'\n",
      "UPPA007：正在格式化为空\n",
      "UPPA008：正在格式化为空\n",
      "UPPA010：正在格式化为空\n",
      "UPPB001：正在格式化为空\n",
      "UPPB013：正在格式化为空\n",
      "UPPB002：正在格式化为空\n",
      "UPPB003：正在格式化为空\n",
      "UPPB004：正在格式化为空\n",
      "UPPB005：正在格式化为空\n",
      "UPPB023：正在格式化为空\n",
      "UPPB024：正在格式化为空\n",
      "UPPB025：正在格式化为空\n",
      "UPPB006：正在格式化为空\n",
      "UPPB007：正在格式化为空\n",
      "UPPB026：正在格式化为空\n",
      "UPPC185：正在格式化为空\n",
      "UPPC187：正在格式化为空\n",
      "UPPB009：正在格式化为空\n",
      "UPPB027：正在格式化为空\n",
      "UPPB010：正在格式化为空\n",
      "UPPB011：正在格式化为空\n",
      "UPPB012：正在格式化为空\n",
      "UPPB019：正在格式化为空\n",
      "could not convert string to float: '(50000-up)'\n",
      "UPPC061：正在格式化为空\n",
      "UPPC095：正在格式化为空\n",
      "UPPC104：正在格式化为空\n",
      "UPPC113：正在格式化为空\n",
      "UPPC493：正在格式化为空\n",
      "UPPC494：正在格式化为空\n",
      "UPPC495：正在格式化为空\n",
      "UPPC490：正在格式化为空\n",
      "UPPC491：正在格式化为空\n",
      "UPPC492：正在格式化为空\n",
      "UPPC224：正在格式化为空\n",
      "UPPC496：正在格式化为空\n",
      "could not convert string to float: '佛山市:30000'\n",
      "UPPC497：正在格式化为空\n",
      "could not convert string to float: '佛山市:30000'\n",
      "UPPC333：正在格式化为空\n",
      "UPPC334：正在格式化为空\n",
      "UPPC335：正在格式化为空\n",
      "could not convert string to float: '马来西亚'\n",
      "UPPC336：正在格式化为空\n",
      "could not convert string to float: '马来西亚'\n",
      "UPPC474：正在格式化为空\n",
      "UPPC392：正在格式化为空\n",
      "UPPC393：正在格式化为空\n",
      "UPPC394：正在格式化为空\n",
      "UPPC395：正在格式化为空\n",
      "UPPC489：正在格式化为空\n",
      "UPPD057：正在格式化为空\n",
      "UPPE025：正在格式化为空\n",
      "UPPE026：正在格式化为空\n",
      "UPPE027：正在格式化为空\n",
      "UPPE028：正在格式化为空\n",
      "UPPE037：正在格式化为空\n",
      "UPPE038：正在格式化为空\n",
      "UPPE039：正在格式化为空\n",
      "UPPE040：正在格式化为空\n",
      "UPPE049：正在格式化为空\n",
      "UPPE050：正在格式化为空\n",
      "UPPE075：正在格式化为空\n",
      "UPPE076：正在格式化为空\n",
      "UPPE077：正在格式化为空\n",
      "UPPE078：正在格式化为空\n",
      "UPPE079：正在格式化为空\n",
      "UPPE080：正在格式化为空\n",
      "UPPE081：正在格式化为空\n",
      "UPPE082：正在格式化为空\n",
      "UPPE071：正在格式化为空\n",
      "UPPE072：正在格式化为空\n",
      "UPPE073：正在格式化为空\n",
      "UPPE074：正在格式化为空\n",
      "UPPE083：正在格式化为空\n",
      "UPPG001：正在格式化为空\n",
      "UPPG002：正在格式化为空\n",
      "UPPG003：正在格式化为空\n",
      "UPPG028：正在格式化为空\n",
      "UPPG029：正在格式化为空\n",
      "UPPG030：正在格式化为空\n",
      "UPPI009：正在格式化为空\n",
      "UPPI010：正在格式化为空\n",
      "UPPI011：正在格式化为空\n",
      "UPPI012：正在格式化为空\n",
      "UPPI021：正在格式化为空\n",
      "UPPI022：正在格式化为空\n",
      "UPPI023：正在格式化为空\n",
      "UPPI024：正在格式化为空\n",
      "UPPI033：正在格式化为空\n",
      "UPPI034：正在格式化为空\n",
      "UPPI035：正在格式化为空\n",
      "UPPI036：正在格式化为空\n",
      "UPPI045：正在格式化为空\n",
      "UPPI046：正在格式化为空\n",
      "UPPI047：正在格式化为空\n",
      "UPPI048：正在格式化为空\n",
      "UPPI057：正在格式化为空\n",
      "UPPI058：正在格式化为空\n",
      "UPPI059：正在格式化为空\n",
      "UPPI060：正在格式化为空\n",
      "UPPI069：正在格式化为空\n",
      "UPPI070：正在格式化为空\n",
      "UPPI071：正在格式化为空\n",
      "UPPI072：正在格式化为空\n",
      "UPPI081：正在格式化为空\n",
      "UPPI082：正在格式化为空\n",
      "UPPI083：正在格式化为空\n",
      "UPPI084：正在格式化为空\n",
      "UPPI093：正在格式化为空\n",
      "UPPI094：正在格式化为空\n",
      "UPPI095：正在格式化为空\n",
      "UPPI096：正在格式化为空\n",
      "UPPI105：正在格式化为空\n",
      "UPPI106：正在格式化为空\n",
      "UPPI107：正在格式化为空\n",
      "UPPI108：正在格式化为空\n",
      "UPPI117：正在格式化为空\n",
      "UPPI118：正在格式化为空\n",
      "UPPI119：正在格式化为空\n",
      "UPPI120：正在格式化为空\n",
      "UPPI129：正在格式化为空\n",
      "UPPI130：正在格式化为空\n",
      "UPPI131：正在格式化为空\n",
      "UPPI132：正在格式化为空\n",
      "UPPI141：正在格式化为空\n",
      "UPPI142：正在格式化为空\n",
      "UPPI143：正在格式化为空\n",
      "UPPI144：正在格式化为空\n",
      "UPPI153：正在格式化为空\n",
      "UPPI154：正在格式化为空\n",
      "UPPI155：正在格式化为空\n",
      "UPPI156：正在格式化为空\n",
      "UPPI165：正在格式化为空\n",
      "UPPI166：正在格式化为空\n",
      "UPPI167：正在格式化为空\n",
      "UPPI168：正在格式化为空\n",
      "UPPI177：正在格式化为空\n",
      "UPPI178：正在格式化为空\n",
      "UPPI179：正在格式化为空\n",
      "UPPI180：正在格式化为空\n",
      "UPPI189：正在格式化为空\n",
      "UPPI190：正在格式化为空\n",
      "UPPI191：正在格式化为空\n",
      "UPPI192：正在格式化为空\n",
      "UPPI201：正在格式化为空\n",
      "UPPI202：正在格式化为空\n",
      "UPPI203：正在格式化为空\n",
      "UPPI204：正在格式化为空\n",
      "id：正在格式化为空\n",
      "could not convert string to float: '006d4fa9012f707682671fa3cba692e903cc8354f962d981a59c263f5d2b0a2e'\n",
      "flag_d2：正在格式化为空\n",
      "map_key_d2：正在格式化为空\n",
      "UPPW021：正在格式化为空\n",
      "UPPW022：正在格式化为空\n",
      "UPPW061：正在格式化为空\n",
      "UPPW105：正在格式化为空\n",
      "UPPW106：正在格式化为空\n",
      "UPPW145：正在格式化为空\n",
      "UPPW189：正在格式化为空\n",
      "UPPW190：正在格式化为空\n",
      "UPPW229：正在格式化为空\n",
      "JDDZ800：正在格式化为空\n",
      "could not convert string to float: '105:1|205:1|104:1|300:1'\n",
      "JDDZ883：正在格式化为空\n"
     ]
    }
   ],
   "source": [
    "#判断该列是否是object,将'\\N'转化为np.nan,同时将取值变为float类型\n",
    "for s in data.items():\n",
    "    if pd.api.types.is_object_dtype(s[1].dtypes):\n",
    "        print(f\"{s[0]}：正在格式化为空\")\n",
    "        try:\n",
    "            data[s[0]] = data[s[0]].map(lambda x: np.nan\n",
    "                                          if x == r'\\N' or x == r'\\\\N' else x).astype(float)\n",
    "        except Exception as e:\n",
    "            print(e)"
   ]
  },
  {
   "cell_type": "markdown",
   "metadata": {},
   "source": [
    "# 衍生"
   ]
  },
  {
   "cell_type": "markdown",
   "metadata": {},
   "source": [
    "## 衍生代码集导入"
   ]
  },
  {
   "cell_type": "code",
   "execution_count": 14,
   "metadata": {
    "ExecuteTime": {
     "end_time": "2024-12-30T07:00:07.858565Z",
     "start_time": "2024-12-30T07:00:06.188973Z"
    }
   },
   "outputs": [
    {
     "name": "stdout",
     "output_type": "stream",
     "text": [
      "The autoreload extension is already loaded. To reload it, use:\n",
      "  %reload_ext autoreload\n"
     ]
    }
   ],
   "source": [
    "df_from_json_pandas = pd.read_json('周度风险_趋势.json')\n",
    "df_from_json_pandas2 = pd.read_json('周度风险_比率.json')\n",
    "df_from_json_pandas3 = pd.read_json('标品趋势.json')\n",
    "df_from_json_pandas4 = pd.read_json('标品比率.json')\n",
    "df_from_json_pandas5 = pd.read_json('间隔天数.json')\n",
    "\n",
    "### 时间变量不稳定考虑不要衍生\n",
    "commands = pd.concat([df_from_json_pandas['衍生python代码'],\n",
    "                      df_from_json_pandas2['衍生python代码'],\n",
    "                     df_from_json_pandas3['衍生python代码'],\n",
    "                      df_from_json_pandas4['衍生python代码'],\n",
    "                     df_from_json_pandas5['衍生python代码']],\n",
    "                     axis=0,ignore_index=True)"
   ]
  },
  {
   "metadata": {},
   "cell_type": "markdown",
   "source": "## 时间格式处理衍生"
  },
  {
   "metadata": {},
   "cell_type": "markdown",
   "source": "客户时间处理"
  },
  {
   "cell_type": "code",
   "execution_count": null,
   "metadata": {
    "ExecuteTime": {
     "end_time": "2024-12-30T06:27:08.688909Z",
     "start_time": "2024-12-30T06:27:07.396117Z"
    }
   },
   "outputs": [],
   "source": [
    "### 处理客户时间戳格式\n",
    "data['event_dt'] = pd.to_datetime(data['feat_time'].apply(lambda x:x[0:10]),format='%Y-%m-%d')\n",
    "data['event_mth'] = data['event_dt'].apply(lambda x:x.strftime('%Y%m'))\n",
    "### 给json代码传输查询时间标签\n",
    "time_tag = 'event_dt'"
   ]
  },
  {
   "metadata": {},
   "cell_type": "markdown",
   "source": "UPA时间变量处理"
  },
  {
   "metadata": {},
   "cell_type": "code",
   "outputs": [],
   "execution_count": null,
   "source": [
    "time_list = df_from_json_pandas5['Time Var'].to_list()\n",
    "for i in time_list:\n",
    "    data[i] = pd.to_datetime(data[i].astype(float).astype('Int64').astype(str),format='%Y%m%d',errors='coerce')"
   ]
  },
  {
   "metadata": {},
   "cell_type": "markdown",
   "source": "运行全部衍生代码"
  },
  {
   "metadata": {},
   "cell_type": "code",
   "outputs": [],
   "execution_count": null,
   "source": [
    "%%capture --no-display\n",
    "## 隐藏此代码框 的所有警告\n",
    "for cmd in commands:\n",
    "    try:\n",
    "        exec(cmd)\n",
    "    except Exception as e:\n",
    "        print(f\"Error executing command: {e}\")"
   ]
  },
  {
   "metadata": {},
   "cell_type": "markdown",
   "source": "## Inner join Y, 保留有Y的数据"
  },
  {
   "metadata": {},
   "cell_type": "code",
   "outputs": [],
   "execution_count": null,
   "source": [
    "data = pd.merge(data,df_cust_vars[['id','ym','flag']],how='inner',on=['id','ym'])\n",
    "data = data.drop_duplicates(subset=['id','ym'])"
   ]
  },
  {
   "cell_type": "markdown",
   "metadata": {},
   "source": [
    "# 异常值处理"
   ]
  },
  {
   "metadata": {},
   "cell_type": "markdown",
   "source": "### 删除无效变量"
  },
  {
   "metadata": {},
   "cell_type": "code",
   "outputs": [],
   "execution_count": null,
   "source": [
    "del_list = time_list + []\n",
    "data = data.drop(del_list, axis=1)"
   ]
  },
  {
   "metadata": {},
   "cell_type": "code",
   "outputs": [],
   "execution_count": null,
   "source": [
    "cannot_delete_list = ['id','ym','flag']\n",
    "# 缺失率处理\n",
    "data = calculate_missing_rate(data,cannot_delete_list , rate = 0.8)\n",
    "# 同值率处理\n",
    "data = drop_same_rate_high_column(data, cannot_delete_list, rate = 0.7)"
   ]
  },
  {
   "cell_type": "markdown",
   "metadata": {},
   "source": [
    "## 欠/过抽样"
   ]
  },
  {
   "metadata": {},
   "cell_type": "markdown",
   "source": "# 保存pickle"
  },
  {
   "metadata": {},
   "cell_type": "code",
   "outputs": [],
   "execution_count": null,
   "source": "data.to_pickle(r'data\\data_all_0726.pkl')"
  }
 ],
 "metadata": {
  "kernelspec": {
   "display_name": "Python 3",
   "language": "python",
   "name": "python3"
  },
  "language_info": {
   "codemirror_mode": {
    "name": "ipython",
    "version": 3
   },
   "file_extension": ".py",
   "mimetype": "text/x-python",
   "name": "python",
   "nbconvert_exporter": "python",
   "pygments_lexer": "ipython3",
   "version": "3.7.6"
  },
  "toc": {
   "base_numbering": 1,
   "nav_menu": {},
   "number_sections": true,
   "sideBar": true,
   "skip_h1_title": false,
   "title_cell": "Table of Contents",
   "title_sidebar": "Contents",
   "toc_cell": false,
   "toc_position": {},
   "toc_section_display": true,
   "toc_window_display": true
  },
  "varInspector": {
   "cols": {
    "lenName": 16,
    "lenType": 16,
    "lenVar": 40
   },
   "kernels_config": {
    "python": {
     "delete_cmd_postfix": "",
     "delete_cmd_prefix": "del ",
     "library": "var_list.py",
     "varRefreshCmd": "print(var_dic_list())"
    },
    "r": {
     "delete_cmd_postfix": ") ",
     "delete_cmd_prefix": "rm(",
     "library": "var_list.r",
     "varRefreshCmd": "cat(var_dic_list()) "
    }
   },
   "types_to_exclude": [
    "module",
    "function",
    "builtin_function_or_method",
    "instance",
    "_Feature"
   ],
   "window_display": false
  }
 },
 "nbformat": 4,
 "nbformat_minor": 4
}
